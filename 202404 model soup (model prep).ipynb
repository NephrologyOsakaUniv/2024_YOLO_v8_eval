{
 "cells": [
  {
   "cell_type": "code",
   "execution_count": null,
   "id": "3b90b739",
   "metadata": {},
   "outputs": [],
   "source": [
    "import glob, os\n",
    "from ultralytics import YOLO"
   ]
  },
  {
   "cell_type": "code",
   "execution_count": null,
   "id": "7e47f7cc",
   "metadata": {},
   "outputs": [],
   "source": [
    "d = '/PATH'\n",
    "weights = sorted(glob.glob(d + '/*.pt'))"
   ]
  },
  {
   "cell_type": "code",
   "execution_count": null,
   "id": "69547c24",
   "metadata": {},
   "outputs": [],
   "source": [
    "weights"
   ]
  },
  {
   "cell_type": "code",
   "execution_count": null,
   "id": "090a5e9e",
   "metadata": {},
   "outputs": [],
   "source": [
    "def sum_model_params(modelA, modelB):\n",
    "    \"\"\" modelA + modelB \"\"\"\n",
    "    sdA = modelA.state_dict()\n",
    "    sdB = modelB.state_dict()\n",
    "    for key in sdA:\n",
    "        sdA[key] = (sdA[key] + sdB[key])\n",
    "    modelA.load_state_dict(sdA)\n",
    "    return modelA\n",
    "\n",
    "def mul_model_params(model, a):\n",
    "    \"\"\" a * model \"\"\"\n",
    "    sd = model.state_dict()\n",
    "    for key in sd:\n",
    "        sd[key] = sd[key] * a\n",
    "    model.load_state_dict(sd)\n",
    "    return model"
   ]
  },
  {
   "cell_type": "code",
   "execution_count": null,
   "id": "f14c6af0",
   "metadata": {},
   "outputs": [],
   "source": [
    "model = YOLO(weights[0])\n",
    "for i in weights[1:]:\n",
    "    model_add = YOLO(i)\n",
    "    model.model = sum_model_params(model_add.model, model.model)"
   ]
  },
  {
   "cell_type": "code",
   "execution_count": null,
   "id": "3c527736",
   "metadata": {},
   "outputs": [],
   "source": [
    "model = mul_model_params(model, 1/len(weights)) "
   ]
  },
  {
   "cell_type": "code",
   "execution_count": null,
   "id": "1769d25d",
   "metadata": {},
   "outputs": [],
   "source": [
    "model.save(\"SAVE_NAME.pt\")"
   ]
  },
  {
   "cell_type": "code",
   "execution_count": null,
   "id": "9ee1a36c",
   "metadata": {},
   "outputs": [],
   "source": [
    "model"
   ]
  }
 ],
 "metadata": {
  "kernelspec": {
   "display_name": "Python 3 (ipykernel)",
   "language": "python",
   "name": "python3"
  },
  "language_info": {
   "codemirror_mode": {
    "name": "ipython",
    "version": 3
   },
   "file_extension": ".py",
   "mimetype": "text/x-python",
   "name": "python",
   "nbconvert_exporter": "python",
   "pygments_lexer": "ipython3",
   "version": "3.8.10"
  }
 },
 "nbformat": 4,
 "nbformat_minor": 5
}
